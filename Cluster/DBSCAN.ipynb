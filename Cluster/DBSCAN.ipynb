{
 "cells": [
  {
   "cell_type": "code",
   "execution_count": 1,
   "id": "c69777db-59c9-409b-ba48-fce711cad18f",
   "metadata": {},
   "outputs": [],
   "source": [
    "#  encoding=utf-8\n",
    "\n",
    "import numpy as np\n",
    "from sklearn.cluster import DBSCAN\n",
    "from sklearn import metrics\n",
    "from sklearn.datasets import make_blobs\n",
    "from sklearn.preprocessing import StandardScaler\n",
    "import matplotlib.pyplot as plt\n",
    "\n",
    "\n",
    "class DBScan (object):\n",
    "    \"\"\"\n",
    "    the class inherits from object, encapsulate the  DBscan algorithm\n",
    "    \"\"\"\n",
    "    def __init__(self, p):\n",
    "\n",
    "        self.point = p\n",
    "        self.db = DBSCAN(eps=2, min_samples=21).fit(self.point)\n",
    "\n",
    "    def draw(self):\n",
    "\n",
    "        coreSamplesMask = np.zeros_like(self.db.labels_, dtype=bool)\n",
    "        coreSamplesMask[self.db.core_sample_indices_] = True\n",
    "        labels = self.db.labels_\n",
    "        nclusters = jiangzao(labels)\n",
    "\n",
    "        # 绘制结果\n",
    "        # 黑色被移除，并被标记为噪音。\n",
    "        unique_labels = set(labels)\n",
    "        colors = plt.cm.Spectral(np.linspace(0, 1, len(unique_labels)))\n",
    "        for k, col in zip(unique_labels, colors):\n",
    "            if k == -1:\n",
    "                # 黑色用于噪声\n",
    "                col = 'k'\n",
    "\n",
    "            classMemberMask = (labels == k)\n",
    "\n",
    "            # 画出分类点集\n",
    "            xy = self.point[classMemberMask & coreSamplesMask]\n",
    "            plt.plot(xy[:, 0], xy[:, 1], 'o', markerfacecolor=col,\n",
    "                     markeredgecolor='k', markersize=6)\n",
    "\n",
    "            # 画出噪声点集\n",
    "            xy = self.point[classMemberMask & ~coreSamplesMask]\n",
    "            plt.plot(xy[:, 0], xy[:, 1], 'o', markerfacecolor=col,\n",
    "                     markeredgecolor='k', markersize=3)\n",
    "        # 加标题，显示分类数\n",
    "        plt.title('Estimated number of clusters: %d' % nclusters)\n",
    "        plt.savefig('img/DBSCAN.svg',dpi=1000) #指定分辨率保存\n",
    "        plt.show()\n",
    "\n",
    "\n",
    "def jiangzao (labels):\n",
    "\n",
    "    # 标签中的簇数，忽略噪声（如果存在）\n",
    "    clusters = len(set(labels)) - (1 if -1 in labels else 0)\n",
    "    return clusters\n",
    "\n",
    "def standar_scaler(points):\n",
    "\n",
    "    p = StandardScaler().fit_transform(points)\n",
    "    return p"
   ]
  },
  {
   "cell_type": "code",
   "execution_count": 2,
   "id": "9cfeb7a7-df86-41a6-a741-5d3c317a6b18",
   "metadata": {},
   "outputs": [],
   "source": [
    "from sklearn.manifold import TSNE\n",
    "from sklearn.datasets import load_iris\n",
    "from sklearn.manifold import MDS\n",
    "import matplotlib.pyplot as plt\n",
    "from sklearn.decomposition import PCA\n",
    "import numpy as np"
   ]
  },
  {
   "cell_type": "code",
   "execution_count": 3,
   "id": "9452b49a-fab9-41bd-be2a-cd9418481768",
   "metadata": {},
   "outputs": [],
   "source": [
    "# 加载数据集\n",
    "def load_data(data_path):\n",
    "    points = np.loadtxt(data_path)\n",
    "    return points"
   ]
  },
  {
   "cell_type": "code",
   "execution_count": 4,
   "id": "50e74643-2230-4944-91ba-fa087da6f7fd",
   "metadata": {},
   "outputs": [
    {
     "name": "stdout",
     "output_type": "stream",
     "text": [
      "(112, 4163)\n"
     ]
    }
   ],
   "source": [
    "data = load_data('../know_user_kmeans.txt')\n",
    "print(data.shape)"
   ]
  },
  {
   "cell_type": "code",
   "execution_count": 5,
   "id": "a496927a-ddd5-498c-af1b-aed029851c0c",
   "metadata": {},
   "outputs": [
    {
     "data": {
      "image/png": "[encoded data removed]",
      "text/plain": [
       "<Figure size 432x288 with 1 Axes>"
      ]
     },
     "metadata": {
      "needs_background": "light"
     },
     "output_type": "display_data"
    }
   ],
   "source": [
    " db = DBScan(data)\n",
    " db.draw()"
   ]
  },
  {
   "cell_type": "code",
   "execution_count": null,
   "id": "2d4023e5-769e-4b80-ac19-6f01675a68f5",
   "metadata": {},
   "outputs": [],
   "source": []
  }
 ],
 "metadata": {
  "kernelspec": {
   "display_name": "Python 3",
   "language": "python",
   "name": "python3"
  },
  "language_info": {
   "codemirror_mode": {
    "name": "ipython",
    "version": 3
   },
   "file_extension": ".py",
   "mimetype": "text/x-python",
   "name": "python",
   "nbconvert_exporter": "python",
   "pygments_lexer": "ipython3",
   "version": "3.6.13"
  }
 },
 "nbformat": 4,
 "nbformat_minor": 5
}
