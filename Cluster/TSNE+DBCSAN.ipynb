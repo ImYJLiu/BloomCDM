{
 "cells": [
  {
   "cell_type": "code",
   "execution_count": 1,
   "id": "bdcd443d-b53c-453e-b0ff-08e43789f5f2",
   "metadata": {},
   "outputs": [],
   "source": [
    "from sklearn.manifold import TSNE\n",
    "from sklearn.datasets import load_iris\n",
    "from sklearn.decomposition import PCA\n",
    "import matplotlib.pyplot as plt\n",
    "import numpy as np"
   ]
  },
  {
   "cell_type": "code",
   "execution_count": 2,
   "id": "a3d11dd6-426c-43f5-b154-bd4fd84ba778",
   "metadata": {},
   "outputs": [],
   "source": [
    "# 加载数据集\n",
    "def load_data(data_path):\n",
    "    points = np.loadtxt(data_path)\n",
    "    return points"
   ]
  },
  {
   "cell_type": "code",
   "execution_count": 3,
   "id": "d3ce8309-f58f-4a68-a937-175f5193c092",
   "metadata": {},
   "outputs": [
    {
     "name": "stdout",
     "output_type": "stream",
     "text": [
      "(112, 4163)\n"
     ]
    }
   ],
   "source": [
    "data = load_data('../know_user_kmeans.txt')\n",
    "print(data.shape)"
   ]
  },
  {
   "cell_type": "code",
   "execution_count": 4,
   "id": "f86c4821-96d4-4f6a-83b6-ba0b9a72f71d",
   "metadata": {},
   "outputs": [],
   "source": [
    "# 使用TSNE进行降维处理。从1000维降至2维。\n",
    "tsne = TSNE(n_components=2, learning_rate=50).fit_transform(data)"
   ]
  },
  {
   "cell_type": "code",
   "execution_count": 5,
   "id": "c88136ca-a68e-42b3-bb2d-bebd5d51da63",
   "metadata": {},
   "outputs": [
    {
     "name": "stdout",
     "output_type": "stream",
     "text": [
      "(112, 2)\n"
     ]
    }
   ],
   "source": [
    "print(tsne.shape)"
   ]
  },
  {
   "cell_type": "code",
   "execution_count": 6,
   "id": "96129ecf-5a70-44ef-9cb4-26e4f69e2a79",
   "metadata": {},
   "outputs": [
    {
     "data": {
      "image/png": "[encoded data removed]",
      "text/plain": [
       "<Figure size 720x720 with 2 Axes>"
      ]
     },
     "metadata": {
      "needs_background": "light"
     },
     "output_type": "display_data"
    }
   ],
   "source": [
    "plt.figure(figsize=(10, 10))\n",
    "plt.plot(2)\n",
    "plt.scatter(tsne[:, 0], tsne[:, 1])\n",
    "plt.colorbar()#使用这一句就可以分辨出，颜色对应的类了！神奇啊。\n",
    "plt.show()"
   ]
  },
  {
   "cell_type": "code",
   "execution_count": 40,
   "id": "f5ac44e1-6d8a-4b12-922c-27c0892ed289",
   "metadata": {},
   "outputs": [],
   "source": [
    "#  encoding=utf-8\n",
    "\n",
    "import numpy as np\n",
    "from sklearn.cluster import DBSCAN\n",
    "from sklearn import metrics\n",
    "from sklearn.datasets import make_blobs\n",
    "from sklearn.preprocessing import StandardScaler\n",
    "import matplotlib.pyplot as plt\n",
    "\n",
    "\n",
    "class DBScan (object):\n",
    "    \"\"\"\n",
    "    the class inherits from object, encapsulate the  DBscan algorithm\n",
    "    \"\"\"\n",
    "    def __init__(self, p):\n",
    "\n",
    "        self.point = p\n",
    "        self.db = DBSCAN(eps=1, min_samples=2).fit(self.point)\n",
    "\n",
    "    def draw(self):\n",
    "\n",
    "        coreSamplesMask = np.zeros_like(self.db.labels_, dtype=bool)\n",
    "        coreSamplesMask[self.db.core_sample_indices_] = True\n",
    "        labels = self.db.labels_\n",
    "        nclusters = jiangzao(labels)\n",
    "\n",
    "        # 绘制结果\n",
    "        # 黑色被移除，并被标记为噪音。\n",
    "        unique_labels = set(labels)\n",
    "        colors = plt.cm.Spectral(np.linspace(0, 1, len(unique_labels)))\n",
    "        for k, col in zip(unique_labels, colors):\n",
    "            if k == -1:\n",
    "                # 黑色用于噪声\n",
    "                col = 'k'\n",
    "\n",
    "            classMemberMask = (labels == k)\n",
    "\n",
    "            # 画出分类点集\n",
    "            xy = self.point[classMemberMask & coreSamplesMask]\n",
    "            plt.plot(xy[:, 0], xy[:, 1], 'o', markerfacecolor=col,\n",
    "                     markeredgecolor='k', markersize=6)\n",
    "\n",
    "            # 画出噪声点集\n",
    "            xy = self.point[classMemberMask & ~coreSamplesMask]\n",
    "            plt.plot(xy[:, 0], xy[:, 1], 'o', markerfacecolor=col,\n",
    "                     markeredgecolor='k', markersize=3)\n",
    "        # 加标题，显示分类数\n",
    "        plt.title('Estimated number of clusters: %d' % nclusters)\n",
    "        plt.savefig('img/HKS-D.svg',dpi=1000) #指定分辨率保存\n",
    "        plt.show()\n",
    "\n",
    "\n",
    "def jiangzao (labels):\n",
    "\n",
    "    # 标签中的簇数，忽略噪声（如果存在）\n",
    "    clusters = len(set(labels)) - (1 if -1 in labels else 0)\n",
    "    return clusters\n",
    "\n",
    "def standar_scaler(points):\n",
    "\n",
    "    p = StandardScaler().fit_transform(points)\n",
    "    return p"
   ]
  },
  {
   "cell_type": "code",
   "execution_count": 41,
   "id": "06e8eb2a-51df-4f0a-8b4b-7c66dd1d64be",
   "metadata": {},
   "outputs": [
    {
     "data": {
      "image/png": "[encoded data removed]",
      "text/plain": [
       "<Figure size 432x288 with 1 Axes>"
      ]
     },
     "metadata": {
      "needs_background": "light"
     },
     "output_type": "display_data"
    }
   ],
   "source": [
    " db = DBScan(tsne)\n",
    " db.draw()"
   ]
  },
  {
   "cell_type": "code",
   "execution_count": 9,
   "id": "00a2f1f7-c303-45d0-bb3f-3f343faf2301",
   "metadata": {},
   "outputs": [],
   "source": [
    "y_pred = db.db.labels_\n",
    "data = tsne"
   ]
  },
  {
   "cell_type": "code",
   "execution_count": 10,
   "id": "3bab6dfd-8709-428c-8b8d-81ce092d8bd2",
   "metadata": {},
   "outputs": [],
   "source": [
    "# # 评价\n",
    "# from evaluation import E\n",
    "\n",
    "# e = E(data, y_pred)"
   ]
  },
  {
   "cell_type": "code",
   "execution_count": 11,
   "id": "7782ab88-7873-490a-8d43-177b5b8d9893",
   "metadata": {},
   "outputs": [
    {
     "name": "stdout",
     "output_type": "stream",
     "text": [
      "[-1.1386968  -0.30767867]\n"
     ]
    },
    {
     "ename": "ZeroDivisionError",
     "evalue": "division by zero",
     "output_type": "error",
     "traceback": [
      "\u001b[0;31m---------------------------------------------------------------------------\u001b[0m",
      "\u001b[0;31mZeroDivisionError\u001b[0m                         Traceback (most recent call last)",
      "\u001b[0;32m<ipython-input-11-b608e46ab976>\u001b[0m in \u001b[0;36m<module>\u001b[0;34m\u001b[0m\n\u001b[1;32m     27\u001b[0m     \u001b[0mprint\u001b[0m\u001b[0;34m(\u001b[0m\u001b[0;34m'cp'\u001b[0m\u001b[0;34m,\u001b[0m\u001b[0mcp\u001b[0m\u001b[0;34m)\u001b[0m\u001b[0;34m\u001b[0m\u001b[0;34m\u001b[0m\u001b[0m\n\u001b[1;32m     28\u001b[0m     \u001b[0mprint\u001b[0m\u001b[0;34m(\u001b[0m\u001b[0;34m'sp'\u001b[0m\u001b[0;34m,\u001b[0m\u001b[0;34m(\u001b[0m\u001b[0;34m(\u001b[0m\u001b[0mx\u001b[0m\u001b[0;34m/\u001b[0m\u001b[0mx_count\u001b[0m\u001b[0;34m-\u001b[0m\u001b[0my\u001b[0m\u001b[0;34m/\u001b[0m\u001b[0my_count\u001b[0m\u001b[0;34m)\u001b[0m\u001b[0;34m**\u001b[0m\u001b[0;36m2\u001b[0m\u001b[0;34m)\u001b[0m\u001b[0;34m.\u001b[0m\u001b[0msum\u001b[0m\u001b[0;34m(\u001b[0m\u001b[0;34m)\u001b[0m\u001b[0;34m)\u001b[0m\u001b[0;34m\u001b[0m\u001b[0;34m\u001b[0m\u001b[0m\n\u001b[0;32m---> 29\u001b[0;31m \u001b[0mcal_sp\u001b[0m\u001b[0;34m(\u001b[0m\u001b[0mdata\u001b[0m\u001b[0;34m,\u001b[0m \u001b[0my_pred\u001b[0m\u001b[0;34m)\u001b[0m\u001b[0;34m\u001b[0m\u001b[0;34m\u001b[0m\u001b[0m\n\u001b[0m",
      "\u001b[0;32m<ipython-input-11-b608e46ab976>\u001b[0m in \u001b[0;36mcal_sp\u001b[0;34m(data, predict)\u001b[0m\n\u001b[1;32m     12\u001b[0m             \u001b[0my\u001b[0m \u001b[0;34m+=\u001b[0m \u001b[0mdata\u001b[0m\u001b[0;34m[\u001b[0m\u001b[0mi\u001b[0m\u001b[0;34m]\u001b[0m\u001b[0;34m\u001b[0m\u001b[0;34m\u001b[0m\u001b[0m\n\u001b[1;32m     13\u001b[0m     \u001b[0mprint\u001b[0m\u001b[0;34m(\u001b[0m\u001b[0mx\u001b[0m\u001b[0;34m/\u001b[0m\u001b[0mx_count\u001b[0m\u001b[0;34m)\u001b[0m\u001b[0;34m\u001b[0m\u001b[0;34m\u001b[0m\u001b[0m\n\u001b[0;32m---> 14\u001b[0;31m     \u001b[0mprint\u001b[0m\u001b[0;34m(\u001b[0m\u001b[0my\u001b[0m\u001b[0;34m/\u001b[0m\u001b[0my_count\u001b[0m\u001b[0;34m)\u001b[0m\u001b[0;34m\u001b[0m\u001b[0;34m\u001b[0m\u001b[0m\n\u001b[0m\u001b[1;32m     15\u001b[0m \u001b[0;34m\u001b[0m\u001b[0m\n\u001b[1;32m     16\u001b[0m \u001b[0;34m\u001b[0m\u001b[0m\n",
      "\u001b[0;31mZeroDivisionError\u001b[0m: division by zero"
     ]
    }
   ],
   "source": [
    "def cal_sp(data, predict):\n",
    "    x_count = 0\n",
    "    y_count = 0\n",
    "    x = 0\n",
    "    y = 0\n",
    "    for i in range(len(predict)):\n",
    "        if predict[i] == 0:\n",
    "            x_count += 1\n",
    "            x += data[i]\n",
    "        elif predict[i] == 1:\n",
    "            y_count += 1\n",
    "            y += data[i]\n",
    "    print(x/x_count)\n",
    "    print(y/y_count)\n",
    "    \n",
    "        \n",
    "    for i in range(len(predict)):\n",
    "        cp_x = 0\n",
    "        cp_y = 0\n",
    "        if predict[i] == 0:\n",
    "             cp_x += (data[i] - x)\n",
    "        cp_x = cp_x/x_count\n",
    "        if predict[i] == 1:\n",
    "            cp_y += (data[i] - y)\n",
    "        cp_y = cp_y/y_count\n",
    "        cp = (cp_x + cp_y).sum()/2\n",
    "    print('cp',cp)\n",
    "    print('sp',((x/x_count-y/y_count)**2).sum())    \n",
    "cal_sp(data, y_pred)"
   ]
  },
  {
   "cell_type": "code",
   "execution_count": null,
   "id": "6b38cbf0-e409-4874-8c06-bce976fab581",
   "metadata": {},
   "outputs": [],
   "source": [
    "print(y_pred.shape)"
   ]
  },
  {
   "cell_type": "code",
   "execution_count": null,
   "id": "22137256-1f4b-4e9b-a5c9-bf2781ffc79e",
   "metadata": {},
   "outputs": [],
   "source": []
  }
 ],
 "metadata": {
  "kernelspec": {
   "display_name": "Python 3",
   "language": "python",
   "name": "python3"
  },
  "language_info": {
   "codemirror_mode": {
    "name": "ipython",
    "version": 3
   },
   "file_extension": ".py",
   "mimetype": "text/x-python",
   "name": "python",
   "nbconvert_exporter": "python",
   "pygments_lexer": "ipython3",
   "version": "3.6.13"
  }
 },
 "nbformat": 4,
 "nbformat_minor": 5
}
