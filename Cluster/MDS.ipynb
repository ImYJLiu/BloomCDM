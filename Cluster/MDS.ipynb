{
 "cells": [
  {
   "cell_type": "code",
   "execution_count": 1,
   "metadata": {
    "tags": []
   },
   "outputs": [],
   "source": [
    "# coding:utf-8\n",
    "import numpy as np\n",
    "from sklearn.datasets import load_iris\n",
    "from sklearn.manifold import MDS\n",
    "import matplotlib.pyplot as plt\n",
    "\n",
    "'''\n",
    "author: heucoder\n",
    "email: 812860165@qq.com\n",
    "date: 2019.6.13\n",
    "'''\n",
    "\n",
    "def cal_pairwise_dist(x):\n",
    "    '''计算pairwise 距离, x是matrix\n",
    "    (a-b)^2 = a^2 + b^2 - 2*a*b\n",
    "    '''\n",
    "    sum_x = np.sum(np.square(x), 1)\n",
    "    dist = np.add(np.add(-2 * np.dot(x, x.T), sum_x).T, sum_x)\n",
    "    #返回任意两个点之间距离的平方\n",
    "    return dist\n",
    "\n",
    "\n",
    "def my_mds(data, n_dims):\n",
    "    '''\n",
    "\n",
    "    :param data: (n_samples, n_features)\n",
    "    :param n_dims: target n_dims\n",
    "    :return: (n_samples, n_dims)\n",
    "    '''\n",
    "\n",
    "    n, d = data.shape\n",
    "    dist = cal_pairwise_dist(data)\n",
    "    dist[dist < 0 ] = 0\n",
    "    T1 = np.ones((n,n))*np.sum(dist)/n**2\n",
    "    T2 = np.sum(dist, axis = 1, keepdims=True)/n\n",
    "    T3 = np.sum(dist, axis = 0, keepdims=True)/n\n",
    "\n",
    "    B = -(T1 - T2 - T3 + dist)/2\n",
    "\n",
    "    eig_val, eig_vector = np.linalg.eig(B)\n",
    "    index_ = np.argsort(-eig_val)[:n_dims]\n",
    "    picked_eig_val = eig_val[index_].real\n",
    "    picked_eig_vector = eig_vector[:, index_]\n",
    "    # print(picked_eig_vector.shape, picked_eig_val.shape)\n",
    "    return picked_eig_vector*picked_eig_val**(0.5)\n",
    "\n"
   ]
  },
  {
   "cell_type": "code",
   "execution_count": null,
   "metadata": {},
   "outputs": [],
   "source": []
  }
 ],
 "metadata": {
  "kernelspec": {
   "display_name": "Python 3",
   "language": "python",
   "name": "python3"
  },
  "language_info": {
   "codemirror_mode": {
    "name": "ipython",
    "version": 3
   },
   "file_extension": ".py",
   "mimetype": "text/x-python",
   "name": "python",
   "nbconvert_exporter": "python",
   "pygments_lexer": "ipython3",
   "version": "3.6.13"
  },
  "pycharm": {
   "stem_cell": {
    "cell_type": "raw",
    "metadata": {
     "collapsed": false
    },
    "source": []
   }
  }
 },
 "nbformat": 4,
 "nbformat_minor": 4
}
