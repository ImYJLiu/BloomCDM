{
 "cells": [
  {
   "cell_type": "code",
   "execution_count": 1,
   "id": "76130e96-21f4-4556-8dd5-6799faed00e3",
   "metadata": {},
   "outputs": [],
   "source": [
    "from sklearn.manifold import TSNE\n",
    "from sklearn.datasets import load_iris\n",
    "from sklearn.manifold import MDS\n",
    "import matplotlib.pyplot as plt\n",
    "from sklearn.decomposition import PCA\n",
    "import numpy as np"
   ]
  },
  {
   "cell_type": "code",
   "execution_count": 2,
   "id": "26e05471-6754-4c3b-9ba8-75a691ee905d",
   "metadata": {},
   "outputs": [],
   "source": [
    "# 加载数据集\n",
    "def load_data(data_path):\n",
    "    points = np.loadtxt(data_path)\n",
    "    return points"
   ]
  },
  {
   "cell_type": "code",
   "execution_count": 3,
   "id": "380fa7a7-7016-48c4-86a7-ff2f41e4a7bb",
   "metadata": {},
   "outputs": [
    {
     "name": "stdout",
     "output_type": "stream",
     "text": [
      "(112, 4163)\n"
     ]
    }
   ],
   "source": [
    "data = load_data('../know_user_kmeans.txt')\n",
    "print(data.shape)"
   ]
  },
  {
   "cell_type": "code",
   "execution_count": 4,
   "id": "31d9b8ae-0c4a-46b0-8e7d-a8ed582f2c15",
   "metadata": {},
   "outputs": [],
   "source": [
    "# 使用PCA进行降维处理。从1000维降至2维。\n",
    "data_PCA = PCA(n_components=2).fit_transform(data)"
   ]
  },
  {
   "cell_type": "code",
   "execution_count": 5,
   "id": "21ececbf-c442-4bc8-9b47-08153e2b1a7c",
   "metadata": {},
   "outputs": [
    {
     "data": {
      "image/png": "[encoded data removed]",
      "text/plain": [
       "<Figure size 720x720 with 2 Axes>"
      ]
     },
     "metadata": {
      "needs_background": "light"
     },
     "output_type": "display_data"
    }
   ],
   "source": [
    "plt.figure(figsize=(10, 10))\n",
    "plt.plot(2)\n",
    "plt.scatter(data_PCA[:, 0], data_PCA[:, 1])\n",
    "plt.colorbar()#使用这一句就可以分辨出，颜色对应的类了！神奇啊。\n",
    "plt.show()"
   ]
  },
  {
   "cell_type": "code",
   "execution_count": 6,
   "id": "7d8516bc-2a94-48cc-8482-e81b638233f2",
   "metadata": {},
   "outputs": [],
   "source": [
    "#  encoding=utf-8\n",
    "\n",
    "import numpy as np\n",
    "from sklearn.cluster import DBSCAN\n",
    "from sklearn import metrics\n",
    "from sklearn.datasets import make_blobs\n",
    "from sklearn.preprocessing import StandardScaler\n",
    "import matplotlib.pyplot as plt\n",
    "\n",
    "\n",
    "class DBScan (object):\n",
    "    \"\"\"\n",
    "    the class inherits from object, encapsulate the  DBscan algorithm\n",
    "    \"\"\"\n",
    "    def __init__(self, p):\n",
    "\n",
    "        self.point = p\n",
    "        self.db = DBSCAN(eps=5, min_samples=21).fit(self.point)\n",
    "\n",
    "    def draw(self):\n",
    "\n",
    "        coreSamplesMask = np.zeros_like(self.db.labels_, dtype=bool)\n",
    "        coreSamplesMask[self.db.core_sample_indices_] = True\n",
    "        labels = self.db.labels_\n",
    "        nclusters = jiangzao(labels)\n",
    "\n",
    "        # 绘制结果\n",
    "        # 黑色被移除，并被标记为噪音。\n",
    "        unique_labels = set(labels)\n",
    "        colors = plt.cm.Spectral(np.linspace(0, 1, len(unique_labels)))\n",
    "        for k, col in zip(unique_labels, colors):\n",
    "            if k == -1:\n",
    "                # 黑色用于噪声\n",
    "                col = 'k'\n",
    "\n",
    "            classMemberMask = (labels == k)\n",
    "\n",
    "            # 画出分类点集\n",
    "            xy = self.point[classMemberMask & coreSamplesMask]\n",
    "            plt.plot(xy[:, 0], xy[:, 1], 'o', markerfacecolor=col,\n",
    "                     markeredgecolor='k', markersize=6)\n",
    "\n",
    "            # 画出噪声点集\n",
    "            xy = self.point[classMemberMask & ~coreSamplesMask]\n",
    "            plt.plot(xy[:, 0], xy[:, 1], 'o', markerfacecolor=col,\n",
    "                     markeredgecolor='k', markersize=3)\n",
    "        # 加标题，显示分类数\n",
    "        plt.title('Estimated number of clusters: %d' % nclusters)\n",
    "        plt.show()\n",
    "\n",
    "\n",
    "def jiangzao (labels):\n",
    "\n",
    "    # 标签中的簇数，忽略噪声（如果存在）\n",
    "    clusters = len(set(labels)) - (1 if -1 in labels else 0)\n",
    "    return clusters\n",
    "\n",
    "def standar_scaler(points):\n",
    "\n",
    "    p = StandardScaler().fit_transform(points)\n",
    "    return p"
   ]
  },
  {
   "cell_type": "code",
   "execution_count": 7,
   "id": "ea3308a2-8b3d-4e1f-8a82-6f754a229d03",
   "metadata": {},
   "outputs": [
    {
     "data": {
      "image/png": "[encoded data removed]",
      "text/plain": [
       "<Figure size 432x288 with 1 Axes>"
      ]
     },
     "metadata": {
      "needs_background": "light"
     },
     "output_type": "display_data"
    }
   ],
   "source": [
    " db = DBScan(data_PCA)\n",
    " db.draw()"
   ]
  },
  {
   "cell_type": "code",
   "execution_count": 8,
   "id": "8e7e2603-af2e-4bf1-a1f6-f212649bcb14",
   "metadata": {},
   "outputs": [
    {
     "ename": "NameError",
     "evalue": "name 'y_pred' is not defined",
     "output_type": "error",
     "traceback": [
      "\u001b[0;31m---------------------------------------------------------------------------\u001b[0m",
      "\u001b[0;31mNameError\u001b[0m                                 Traceback (most recent call last)",
      "\u001b[0;32m<ipython-input-8-06abf95f1a45>\u001b[0m in \u001b[0;36m<module>\u001b[0;34m\u001b[0m\n\u001b[1;32m      2\u001b[0m \u001b[0;32mfrom\u001b[0m \u001b[0mevaluation\u001b[0m \u001b[0;32mimport\u001b[0m \u001b[0mE\u001b[0m\u001b[0;34m\u001b[0m\u001b[0;34m\u001b[0m\u001b[0m\n\u001b[1;32m      3\u001b[0m \u001b[0;34m\u001b[0m\u001b[0m\n\u001b[0;32m----> 4\u001b[0;31m \u001b[0me\u001b[0m \u001b[0;34m=\u001b[0m \u001b[0mE\u001b[0m\u001b[0;34m(\u001b[0m\u001b[0mdata\u001b[0m\u001b[0;34m,\u001b[0m \u001b[0my_pred\u001b[0m\u001b[0;34m)\u001b[0m\u001b[0;34m\u001b[0m\u001b[0;34m\u001b[0m\u001b[0m\n\u001b[0m",
      "\u001b[0;31mNameError\u001b[0m: name 'y_pred' is not defined"
     ]
    }
   ],
   "source": [
    "# 评价\n",
    "from evaluation import E\n",
    "\n",
    "e = E(data, y_pred)"
   ]
  },
  {
   "cell_type": "code",
   "execution_count": 10,
   "id": "d7fd29ce-7c14-4d14-a032-c08a5bd0338d",
   "metadata": {},
   "outputs": [
    {
     "name": "stdout",
     "output_type": "stream",
     "text": [
      "(112, 2)\n"
     ]
    }
   ],
   "source": [
    "print(data_PCA.shape)"
   ]
  },
  {
   "cell_type": "code",
   "execution_count": null,
   "id": "7cda0c32-7137-422d-8c75-86d4d8f5587b",
   "metadata": {},
   "outputs": [],
   "source": []
  }
 ],
 "metadata": {
  "kernelspec": {
   "display_name": "Python 3",
   "language": "python",
   "name": "python3"
  },
  "language_info": {
   "codemirror_mode": {
    "name": "ipython",
    "version": 3
   },
   "file_extension": ".py",
   "mimetype": "text/x-python",
   "name": "python",
   "nbconvert_exporter": "python",
   "pygments_lexer": "ipython3",
   "version": "3.6.13"
  }
 },
 "nbformat": 4,
 "nbformat_minor": 5
}
